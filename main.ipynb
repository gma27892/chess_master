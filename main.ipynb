import chess
import chess.svg
from IPython.display import display, SVG

with open("./games/Gimbolo_vs_lupendecimo_2024.09.17.pgn") as f:
    game = chess.pgn.read_game(f)

board = game.board()

for move in game.mainline_moves():
    board.push(move)

svg_board = chess.svg.board(board=board, size=450)
SVG(svg_board)

display(SVG(svg_board))
